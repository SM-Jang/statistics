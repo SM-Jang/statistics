{
 "cells": [
  {
   "cell_type": "markdown",
   "metadata": {},
   "source": [
    "# 1표본 t - test"
   ]
  },
  {
   "cell_type": "code",
   "execution_count": 1,
   "metadata": {},
   "outputs": [],
   "source": [
    "import pandas as pd\n",
    "import os\n",
    "import seaborn as sns\n",
    "from scipy import stats"
   ]
  },
  {
   "cell_type": "code",
   "execution_count": 2,
   "metadata": {},
   "outputs": [
    {
     "name": "stdout",
     "output_type": "stream",
     "text": [
      "\t일표본 t-test\n",
      "\n",
      "단일 집단일 경우, 평균에 대한 가설을 검정하기 위해 사용\n",
      "모집단의 평균이 특정 값으로 알려져있는 경우, 실제로 모집단의 평균이 특정 값과 같은 지에 대해 가설을 세우고 검정한다.\n"
     ]
    }
   ],
   "source": [
    "print(\"\\t일표본 t-test\\n\")\n",
    "\n",
    "print(\"단일 집단일 경우, 평균에 대한 가설을 검정하기 위해 사용\")\n",
    "print(\"모집단의 평균이 특정 값으로 알려져있는 경우, 실제로 모집단의 평균이 특정 값과 같은 지에 대해 가설을 세우고 검정한다.\")"
   ]
  },
  {
   "cell_type": "code",
   "execution_count": 4,
   "metadata": {},
   "outputs": [
    {
     "name": "stdout",
     "output_type": "stream",
     "text": [
      "타이타닉 탑승객의 평균 나이 35살 가설 검정\n",
      "\n",
      "실제 평균 나이35.62318681318681\n",
      "\n",
      "T statistic: 0.536\n",
      "\n",
      "P value: 0.592\n",
      "\n",
      "\n",
      "\t귀무 가설 채택 35\n"
     ]
    }
   ],
   "source": [
    "hypothesis = 35\n",
    "print(\"타이타닉 탑승객의 평균 나이 {:}살 가설 검정\\n\".format(hypothesis))\n",
    "\n",
    "data      = sns.load_dataset('titanic').dropna()\n",
    "age       = data['age']\n",
    "t, p_val  = stats.ttest_1samp(age, hypothesis)\n",
    "confi     = 1 - .95\n",
    "\n",
    "print(\"실제 평균 나이{:}\\n\".format(age.mean()))\n",
    "\n",
    "print('T statistic: {:.3}\\n'.format(t))\n",
    "print('P value: {:.3}\\n\\n'.format(p_val))\n",
    "if p_val < confi:\n",
    "    print(\"\\t귀무 가설 기각\")\n",
    "    print(\"\\t대립 가설: not {}\".format(hypothesis))\n",
    "else: print(\"\\t귀무 가설 채택\", hypothesis)\n"
   ]
  },
  {
   "cell_type": "markdown",
   "metadata": {},
   "source": [
    "# 독립표본 t-검정"
   ]
  },
  {
   "cell_type": "code",
   "execution_count": 12,
   "metadata": {},
   "outputs": [
    {
     "name": "stdout",
     "output_type": "stream",
     "text": [
      "독립표본 t-test\n",
      "\n",
      "독립된(무관한) 두 집단의 평균 차이를 검정하는 기법\n",
      "등분산 여부에 따라 결과값이 달라짐\n",
      "두 모집단에서 추출한 표본의 분산이 같은지 검정\n"
     ]
    }
   ],
   "source": [
    "print(\"독립표본 t-test\\n\")\n",
    "\n",
    "print(\"독립된(무관한) 두 집단의 평균 차이를 검정하는 기법\")\n",
    "print(\"등분산 여부에 따라 결과값이 달라짐\")\n",
    "print(\"두 모집단에서 추출한 표본의 분산이 같은지 검정\")"
   ]
  },
  {
   "cell_type": "code",
   "execution_count": 21,
   "metadata": {},
   "outputs": [
    {
     "name": "stdout",
     "output_type": "stream",
     "text": [
      "타이타닉 탑승객의 남자, 여자  나이에 대한 등분산성 검정\n",
      "F statistic: 1.04\n",
      "\n",
      "P value: 0.31\n",
      "\n",
      "\n",
      "\t귀무 가설 채택\n",
      "\t:타이타닉 탑승객의 성별에 따른 분산이 같다.\n"
     ]
    }
   ],
   "source": [
    "female = data['sex'] == 'female'\n",
    "male   = data['sex'] == 'male'\n",
    "\n",
    "f_data = data[female]['age']\n",
    "m_data = data[male]['age']\n",
    "\n",
    "print('타이타닉 탑승객의 남자, 여자  나이에 대한 등분산성 검정')\n",
    "\n",
    "f, p_val = stats.levene(f_data, m_data)\n",
    "\n",
    "confi     = 1 - .95\n",
    "\n",
    "print('F statistic: {:.3}\\n'.format(f))\n",
    "print('P value: {:.3}\\n\\n'.format(p_val))\n",
    "if p_val < confi:\n",
    "    print(\"\\t귀무 가설 기각\")\n",
    "    print(\"\\t대립 가설: not 두 성별의 분산이 다르다\")\n",
    "else: print(\"\\t귀무 가설 채택\\n\\t:타이타닉 탑승객의 성별에 따른 분산이 같다.\")\n"
   ]
  },
  {
   "cell_type": "code",
   "execution_count": 44,
   "metadata": {},
   "outputs": [
    {
     "name": "stdout",
     "output_type": "stream",
     "text": [
      "타이타닉 탑승객의 남자, 여자  나이와 생존에 대한 등분산성 검정\n",
      "F statistic: 1.71e+02\n",
      "\n",
      "P value: 6.41e-28\n",
      "\n",
      "\n",
      "\t귀무 가설 기각\n",
      "\t대립 가설: not 두 성별의 분산이 다르다\n",
      "\n",
      "\n",
      "등분산이 아닌 독립표본 t-검정 실행 \n",
      "t statistic : 21.2\n",
      "p-value : 3.33e-36\n",
      "\t귀무 가설 기각\n",
      "\t대립 가설: not 두 데이터 집단 사이의 평균 차이가 있다.\n",
      "\n",
      "\n",
      "실제 두 데이터 집단의       \n",
      "여성 나이 평균:32.67613636363637       \n",
      "남성 생존 평균0.43617021276595747\n"
     ]
    }
   ],
   "source": [
    "female = data['sex'] == 'female'\n",
    "male   = data['sex'] == 'male'\n",
    "\n",
    "f_data = data[female]['age']\n",
    "m_data = data[male]['survived']\n",
    "\n",
    "print('타이타닉 탑승객의 남자, 여자  나이와 생존에 대한 등분산성 검정')\n",
    "\n",
    "f, p_val = stats.levene(f_data, m_data)\n",
    "\n",
    "confi     = 1 - .95\n",
    "\n",
    "print('F statistic: {:.3}\\n'.format(f))\n",
    "print('P value: {:.3}\\n\\n'.format(p_val))\n",
    "if p_val < confi:\n",
    "    print(\"\\t귀무 가설 기각\")\n",
    "    print(\"\\t대립 가설: not 두 성별의 분산이 다르다\")\n",
    "else: print(\"\\t귀무 가설 채택\\n\\t:타이타닉 탑승객의 성별에 따른 분산이 같다.\")\n",
    "\n",
    "    \n",
    "#등분산이 아닌 독립표본 t-검정 실행 \n",
    "t, p_val = stats.ttest_ind(f_data, m_data, equal_var=False) \n",
    "print('\\n\\n등분산이 아닌 독립표본 t-검정 실행 ')\n",
    "print('t statistic : {:.3}'.format(t))\n",
    "print('p-value : {:.3}'.format(p_val))\n",
    "\n",
    "if p_val < confi:\n",
    "    print(\"\\t귀무 가설 기각\")\n",
    "    print(\"\\t대립 가설: not 두 데이터 집단 사이의 평균 차이가 있다.\")\n",
    "else: print(\"\\t귀무 가설 채택\\n\\t:두 데이터 사이 집단의 평균 차이가 없다.\")\n",
    "print('\\n\\n실제 두 데이터 집단의 \\\n",
    "      \\n여성 나이 평균:{:} \\\n",
    "      \\n남성 생존 평균{:}'.\n",
    "      format(f_data.mean(), m_data.mean()))"
   ]
  },
  {
   "cell_type": "code",
   "execution_count": null,
   "metadata": {},
   "outputs": [],
   "source": []
  }
 ],
 "metadata": {
  "kernelspec": {
   "display_name": "ms-tcn",
   "language": "python",
   "name": "ms-tcn"
  },
  "language_info": {
   "codemirror_mode": {
    "name": "ipython",
    "version": 3
   },
   "file_extension": ".py",
   "mimetype": "text/x-python",
   "name": "python",
   "nbconvert_exporter": "python",
   "pygments_lexer": "ipython3",
   "version": "3.7.10"
  }
 },
 "nbformat": 4,
 "nbformat_minor": 4
}
